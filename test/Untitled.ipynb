{
 "cells": [
  {
   "cell_type": "code",
   "execution_count": 1,
   "metadata": {},
   "outputs": [
    {
     "name": "stderr",
     "output_type": "stream",
     "text": [
      "┌ Info: Recompiling stale cache file /Users/jkraak/.julia/compiled/v1.2/CodePlots/2TpU6.ji for CodePlots [e3b9e18e-aad1-11e9-0286-b14383cd97e3]\n",
      "└ @ Base loading.jl:1240\n",
      "WARNING: Method definition (::Type{CodePlots.Renderers.PlantUML})(Any) in module Renderers at /Users/jkraak/Projects/CodePlots/src/renderers.jl:10 overwritten at /Users/jkraak/Projects/CodePlots/src/renderers.jl:15.\n",
      "  ** incremental compilation may be fatally broken for this module **\n",
      "\n"
     ]
    }
   ],
   "source": [
    "using Revise\n",
    "using CodePlots"
   ]
  },
  {
   "cell_type": "code",
   "execution_count": 2,
   "metadata": {},
   "outputs": [],
   "source": [
    "using CodePlots: MemberMap, MemberMapConfig, PlantUML"
   ]
  },
  {
   "cell_type": "code",
   "execution_count": null,
   "metadata": {
    "scrolled": true
   },
   "outputs": [
    {
     "name": "stderr",
     "output_type": "stream",
     "text": [
      "\u001b[91mlowering returned an error, $(Expr(:error, \"\\\"!(Matched::AbstractString)\\\" is not a valid function argument name\"))\u001b[39m\n",
      "Stacktrace:\n",
      " [1] \u001b[1merror\u001b[22m\u001b[1m(\u001b[22m::String, ::Expr\u001b[1m)\u001b[22m at \u001b[1m./error.jl:42\u001b[22m\n",
      " [2] \u001b[1mprepare_thunk\u001b[22m\u001b[1m(\u001b[22m::Module, ::Expr, ::Bool\u001b[1m)\u001b[22m at \u001b[1m/Users/jkraak/.julia/packages/JuliaInterpreter/MXq3U/src/construct.jl:358\u001b[22m\n",
      " [3] \u001b[1mprepare_thunk\u001b[22m\u001b[1m(\u001b[22m::Module, ::Expr, ::Bool\u001b[1m)\u001b[22m at \u001b[1m/Users/jkraak/.julia/packages/JuliaInterpreter/MXq3U/src/construct.jl:369\u001b[22m\n",
      " [4] \u001b[1mprepare_thunk\u001b[22m at \u001b[1m/Users/jkraak/.julia/packages/JuliaInterpreter/MXq3U/src/construct.jl:355\u001b[22m [inlined]\n",
      " [5] \u001b[1m#methods_by_execution!#9\u001b[22m\u001b[1m(\u001b[22m::Bool, ::Base.Iterators.Pairs{Symbol,Bool,Tuple{Symbol},NamedTuple{(:define,),Tuple{Bool}}}, ::typeof(Revise.methods_by_execution!), ::Any, ::Revise.CodeTrackingMethodInfo, ::Dict{Module,Array{Expr,1}}, ::Module, ::Expr\u001b[1m)\u001b[22m at \u001b[1m/Users/jkraak/.julia/packages/Revise/439di/src/lowered.jl:47\u001b[22m\n",
      " [6] \u001b[1m#methods_by_execution!\u001b[22m at \u001b[1m./none:0\u001b[22m [inlined]\n",
      " [7] \u001b[1m#eval_with_signatures#63\u001b[22m\u001b[1m(\u001b[22m::Bool, ::Base.Iterators.Pairs{Union{},Union{},Tuple{},NamedTuple{(),Tuple{}}}, ::typeof(Revise.eval_with_signatures), ::Module, ::Expr\u001b[1m)\u001b[22m at \u001b[1m/Users/jkraak/.julia/packages/Revise/439di/src/Revise.jl:353\u001b[22m\n",
      " [8] \u001b[1meval_with_signatures\u001b[22m at \u001b[1m/Users/jkraak/.julia/packages/Revise/439di/src/Revise.jl:351\u001b[22m [inlined]\n",
      " [9] "
     ]
    }
   ],
   "source": [
    "PlantUML(MemberMap(CodePlots, MemberMapConfig( ; exportedOnly = false)))"
   ]
  },
  {
   "cell_type": "code",
   "execution_count": 1,
   "metadata": {},
   "outputs": [
    {
     "ename": "UndefVarError",
     "evalue": "UndefVarError: PlantUML not defined",
     "output_type": "error",
     "traceback": [
      "UndefVarError: PlantUML not defined",
      "",
      "Stacktrace:",
      " [1] top-level scope at In[1]:1"
     ]
    }
   ],
   "source": [
    "PlantUML(CodePlots)"
   ]
  },
  {
   "cell_type": "code",
   "execution_count": 20,
   "metadata": {},
   "outputs": [
    {
     "data": {
      "image/png": "[encoded data removed]",
      "image/svg+xml": [
       "<?xml version=\"1.0\" encoding=\"UTF-8\" standalone=\"no\"?><svg xmlns=\"http://www.w3.org/2000/svg\" xmlns:xlink=\"http://www.w3.org/1999/xlink\" contentScriptType=\"application/ecmascript\" contentStyleType=\"text/css\" height=\"351px\" preserveAspectRatio=\"none\" style=\"width:444px;height:351px;\" version=\"1.1\" viewBox=\"0 0 444 351\" width=\"444px\" zoomAndPan=\"magnify\"><defs><filter height=\"300%\" id=\"f1euz5twqdss2w\" width=\"300%\" x=\"-1\" y=\"-1\"><feGaussianBlur result=\"blurOut\" stdDeviation=\"2.0\"/><feColorMatrix in=\"blurOut\" result=\"blurOut2\" type=\"matrix\" values=\"0 0 0 0 0 0 0 0 0 0 0 0 0 0 0 0 0 0 .4 0\"/><feOffset dx=\"4.0\" dy=\"4.0\" in=\"blurOut2\" result=\"blurOut3\"/><feBlend in=\"SourceGraphic\" in2=\"blurOut3\" mode=\"normal\"/></filter></defs><g><!--MD5=[8420afefeafb7fed6f1f49fa99495177]\n",
       "cluster Revise--><polygon fill=\"#FFFFFF\" filter=\"url(#f1euz5twqdss2w)\" points=\"22,24,80,24,87,46.2969,422,46.2969,422,339,22,339,22,24\" style=\"stroke: #000000; stroke-width: 1.5;\"/><line style=\"stroke: #000000; stroke-width: 1.5;\" x1=\"22\" x2=\"87\" y1=\"46.2969\" y2=\"46.2969\"/><text fill=\"#000000\" font-family=\"sans-serif\" font-size=\"14\" font-weight=\"bold\" lengthAdjust=\"spacingAndGlyphs\" textLength=\"52\" x=\"26\" y=\"38.9951\">Revise</text><!--MD5=[b5705dba6a423e0bc3448cee258c668f]\n",
       "class MethodSummary--><rect fill=\"#FEFECE\" filter=\"url(#f1euz5twqdss2w)\" height=\"48\" id=\"MethodSummary\" style=\"stroke: #A80036; stroke-width: 1.5;\" width=\"136\" x=\"38\" y=\"59\"/><ellipse cx=\"53\" cy=\"75\" fill=\"#00CCCC\" rx=\"11\" ry=\"11\" style=\"stroke: #A80036; stroke-width: 1.0;\"/><path d=\"M57.2813,70.9688 L57.2813,72.4688 C57.2813,72.9375 57.25,73.0781 57.1406,73.25 C56.9688,73.4688 56.7188,73.6094 56.4531,73.6094 C56.2188,73.6094 55.9844,73.5 55.8438,73.375 C55.7188,73.2344 55.7188,73.2344 55.6094,72.6875 C55.4531,72.0156 54.6406,71.5469 53.5781,71.5469 C52.5156,71.5469 51.6563,72.1094 51.6563,72.8438 C51.6563,73.2031 51.9219,73.5938 52.2969,73.7813 C52.625,73.9531 52.7188,73.9844 53.9844,74.2188 C55.4688,74.4844 56.1094,74.7344 56.6406,75.1563 C57.3281,75.7031 57.6406,76.3906 57.6406,77.2813 C57.6406,79.0469 56.0781,80.2344 53.75,80.2344 C52.8281,80.2344 51.9375,80.0156 51.0938,79.5781 C50.8125,79.9219 50.6875,79.9844 50.4219,79.9844 C49.8281,79.9844 49.5469,79.625 49.5469,78.8594 L49.5469,77.7344 C49.5469,77.3125 49.5938,77.125 49.7031,76.9531 C49.875,76.7344 50.125,76.6094 50.4063,76.6094 C50.6406,76.6094 50.8594,76.7031 51.0156,76.8594 C51.1406,76.9688 51.1406,76.9688 51.2656,77.4375 C51.4375,78.0469 52.5156,78.5313 53.6406,78.5313 C54.8906,78.5313 55.875,77.9844 55.875,77.25 C55.875,76.8906 55.6406,76.5469 55.2656,76.3438 C54.9063,76.1563 54.6406,76.0938 53.4844,75.8906 C52.375,75.7031 51.8281,75.5313 51.2813,75.2188 C50.4219,74.7344 49.8906,73.8281 49.8906,72.8594 C49.8906,71.1406 51.4688,69.8438 53.5781,69.8438 C54.4531,69.8438 55.2031,70.0313 55.7969,70.4063 C55.9688,69.9844 56.1094,69.8438 56.4531,69.8438 C56.75,69.8438 57.0313,70 57.1719,70.2344 C57.2656,70.3906 57.2813,70.5313 57.2813,70.9688 Z \"/><text fill=\"#000000\" font-family=\"sans-serif\" font-size=\"12\" lengthAdjust=\"spacingAndGlyphs\" textLength=\"104\" x=\"67\" y=\"79.1543\">MethodSummary</text><line style=\"stroke: #A80036; stroke-width: 1.5;\" x1=\"39\" x2=\"173\" y1=\"91\" y2=\"91\"/><line style=\"stroke: #A80036; stroke-width: 1.5;\" x1=\"39\" x2=\"173\" y1=\"99\" y2=\"99\"/><!--MD5=[10cc62091bea0f252830de67047e864f]\n",
       "class entr--><rect fill=\"#FEFECE\" filter=\"url(#f1euz5twqdss2w)\" height=\"48\" id=\"entr\" style=\"stroke: #A80036; stroke-width: 1.5;\" width=\"58\" x=\"209\" y=\"59\"/><ellipse cx=\"224\" cy=\"75\" fill=\"#CCCC00\" rx=\"11\" ry=\"11\" style=\"stroke: #A80036; stroke-width: 1.0;\"/><path d=\"M222.2969,75.875 L222.2969,78.2969 L224,78.2969 C224.4531,78.2969 224.6094,78.3281 224.7813,78.4531 C224.9844,78.625 225.125,78.875 225.125,79.1563 C225.125,79.4375 224.9688,79.7344 224.7188,79.875 C224.5938,79.9531 224.3438,80 224,80 L220.3438,80 C219.9531,80 219.7188,79.9531 219.5781,79.8281 C219.3594,79.6719 219.2188,79.4063 219.2188,79.1563 C219.2188,78.8594 219.375,78.5781 219.625,78.4219 C219.7813,78.3125 219.9375,78.2969 220.3438,78.2969 L220.5938,78.2969 L220.5938,71.7813 L220.3438,71.7813 C219.9219,71.7813 219.7344,71.75 219.5781,71.6406 C219.3594,71.4688 219.2188,71.2188 219.2188,70.9375 C219.2188,70.6563 219.375,70.3594 219.625,70.2031 C219.7813,70.1094 219.9063,70.0938 220.3438,70.0938 L228.3438,70.0938 L228.3438,72.6563 C228.3438,73.1094 228.3125,73.25 228.2031,73.4219 C228.0313,73.6406 227.7656,73.7813 227.5,73.7813 C227.2188,73.7813 226.9375,73.625 226.7656,73.375 C226.6875,73.2344 226.6563,73.0469 226.6563,72.6563 L226.6563,71.7813 L222.2969,71.7813 L222.2969,74.1875 L223.75,74.1875 L223.75,74.0625 C223.75,73.6406 223.7813,73.4531 223.8906,73.2969 C224.0625,73.0781 224.3281,72.9375 224.5938,72.9375 C224.875,72.9375 225.1563,73.0938 225.3125,73.3594 C225.4063,73.5156 225.4219,73.6406 225.4219,74.0625 L225.4219,75.9844 C225.4219,76.4531 225.3906,76.5938 225.2656,76.7656 C225.1094,76.9844 224.8438,77.125 224.5938,77.125 C224.2969,77.125 224.0156,76.9531 223.8594,76.7188 C223.7813,76.5625 223.75,76.375 223.75,75.9844 L223.75,75.875 Z \"/><text fill=\"#000000\" font-family=\"sans-serif\" font-size=\"12\" lengthAdjust=\"spacingAndGlyphs\" textLength=\"26\" x=\"238\" y=\"79.1543\">entr</text><line style=\"stroke: #A80036; stroke-width: 1.5;\" x1=\"210\" x2=\"266\" y1=\"91\" y2=\"91\"/><line style=\"stroke: #A80036; stroke-width: 1.5;\" x1=\"210\" x2=\"266\" y1=\"99\" y2=\"99\"/><!--MD5=[b85a33f83b529478271f458cb4ced2c6]\n",
       "class firstlineno--><rect fill=\"#FEFECE\" filter=\"url(#f1euz5twqdss2w)\" height=\"48\" id=\"firstlineno\" style=\"stroke: #A80036; stroke-width: 1.5;\" width=\"94\" x=\"302\" y=\"59\"/><ellipse cx=\"317\" cy=\"75\" fill=\"#CCCC00\" rx=\"11\" ry=\"11\" style=\"stroke: #A80036; stroke-width: 1.0;\"/><path d=\"M315.2969,75.875 L315.2969,78.2969 L317,78.2969 C317.4531,78.2969 317.6094,78.3281 317.7813,78.4531 C317.9844,78.625 318.125,78.875 318.125,79.1563 C318.125,79.4375 317.9688,79.7344 317.7188,79.875 C317.5938,79.9531 317.3438,80 317,80 L313.3438,80 C312.9531,80 312.7188,79.9531 312.5781,79.8281 C312.3594,79.6719 312.2188,79.4063 312.2188,79.1563 C312.2188,78.8594 312.375,78.5781 312.625,78.4219 C312.7813,78.3125 312.9375,78.2969 313.3438,78.2969 L313.5938,78.2969 L313.5938,71.7813 L313.3438,71.7813 C312.9219,71.7813 312.7344,71.75 312.5781,71.6406 C312.3594,71.4688 312.2188,71.2188 312.2188,70.9375 C312.2188,70.6563 312.375,70.3594 312.625,70.2031 C312.7813,70.1094 312.9063,70.0938 313.3438,70.0938 L321.3438,70.0938 L321.3438,72.6563 C321.3438,73.1094 321.3125,73.25 321.2031,73.4219 C321.0313,73.6406 320.7656,73.7813 320.5,73.7813 C320.2188,73.7813 319.9375,73.625 319.7656,73.375 C319.6875,73.2344 319.6563,73.0469 319.6563,72.6563 L319.6563,71.7813 L315.2969,71.7813 L315.2969,74.1875 L316.75,74.1875 L316.75,74.0625 C316.75,73.6406 316.7813,73.4531 316.8906,73.2969 C317.0625,73.0781 317.3281,72.9375 317.5938,72.9375 C317.875,72.9375 318.1563,73.0938 318.3125,73.3594 C318.4063,73.5156 318.4219,73.6406 318.4219,74.0625 L318.4219,75.9844 C318.4219,76.4531 318.3906,76.5938 318.2656,76.7656 C318.1094,76.9844 317.8438,77.125 317.5938,77.125 C317.2969,77.125 317.0156,76.9531 316.8594,76.7188 C316.7813,76.5625 316.75,76.375 316.75,75.9844 L316.75,75.875 Z \"/><text fill=\"#000000\" font-family=\"sans-serif\" font-size=\"12\" lengthAdjust=\"spacingAndGlyphs\" textLength=\"62\" x=\"331\" y=\"79.1543\">firstlineno</text><line style=\"stroke: #A80036; stroke-width: 1.5;\" x1=\"303\" x2=\"395\" y1=\"91\" y2=\"91\"/><line style=\"stroke: #A80036; stroke-width: 1.5;\" x1=\"303\" x2=\"395\" y1=\"99\" y2=\"99\"/><!--MD5=[6c452b2fd5e650afc361e03ba5b385a5]\n",
       "class get_method--><rect fill=\"#FEFECE\" filter=\"url(#f1euz5twqdss2w)\" height=\"48\" id=\"get_method\" style=\"stroke: #A80036; stroke-width: 1.5;\" width=\"107\" x=\"38.5\" y=\"167\"/><ellipse cx=\"53.5\" cy=\"183\" fill=\"#CCCC00\" rx=\"11\" ry=\"11\" style=\"stroke: #A80036; stroke-width: 1.0;\"/><path d=\"M51.7969,183.875 L51.7969,186.2969 L53.5,186.2969 C53.9531,186.2969 54.1094,186.3281 54.2813,186.4531 C54.4844,186.625 54.625,186.875 54.625,187.1563 C54.625,187.4375 54.4688,187.7344 54.2188,187.875 C54.0938,187.9531 53.8438,188 53.5,188 L49.8438,188 C49.4531,188 49.2188,187.9531 49.0781,187.8281 C48.8594,187.6719 48.7188,187.4063 48.7188,187.1563 C48.7188,186.8594 48.875,186.5781 49.125,186.4219 C49.2813,186.3125 49.4375,186.2969 49.8438,186.2969 L50.0938,186.2969 L50.0938,179.7813 L49.8438,179.7813 C49.4219,179.7813 49.2344,179.75 49.0781,179.6406 C48.8594,179.4688 48.7188,179.2188 48.7188,178.9375 C48.7188,178.6563 48.875,178.3594 49.125,178.2031 C49.2813,178.1094 49.4063,178.0938 49.8438,178.0938 L57.8438,178.0938 L57.8438,180.6563 C57.8438,181.1094 57.8125,181.25 57.7031,181.4219 C57.5313,181.6406 57.2656,181.7813 57,181.7813 C56.7188,181.7813 56.4375,181.625 56.2656,181.375 C56.1875,181.2344 56.1563,181.0469 56.1563,180.6563 L56.1563,179.7813 L51.7969,179.7813 L51.7969,182.1875 L53.25,182.1875 L53.25,182.0625 C53.25,181.6406 53.2813,181.4531 53.3906,181.2969 C53.5625,181.0781 53.8281,180.9375 54.0938,180.9375 C54.375,180.9375 54.6563,181.0938 54.8125,181.3594 C54.9063,181.5156 54.9219,181.6406 54.9219,182.0625 L54.9219,183.9844 C54.9219,184.4531 54.8906,184.5938 54.7656,184.7656 C54.6094,184.9844 54.3438,185.125 54.0938,185.125 C53.7969,185.125 53.5156,184.9531 53.3594,184.7188 C53.2813,184.5625 53.25,184.375 53.25,183.9844 L53.25,183.875 Z \"/><text fill=\"#000000\" font-family=\"sans-serif\" font-size=\"12\" lengthAdjust=\"spacingAndGlyphs\" textLength=\"75\" x=\"67.5\" y=\"187.1543\">get_method</text><line style=\"stroke: #A80036; stroke-width: 1.5;\" x1=\"39.5\" x2=\"144.5\" y1=\"199\" y2=\"199\"/><line style=\"stroke: #A80036; stroke-width: 1.5;\" x1=\"39.5\" x2=\"144.5\" y1=\"207\" y2=\"207\"/><!--MD5=[ad6dd5bb5faa8e4a150838e1cddf9f73]\n",
       "class includet--><rect fill=\"#FEFECE\" filter=\"url(#f1euz5twqdss2w)\" height=\"48\" id=\"includet\" style=\"stroke: #A80036; stroke-width: 1.5;\" width=\"82\" x=\"181\" y=\"167\"/><ellipse cx=\"196\" cy=\"183\" fill=\"#CCCC00\" rx=\"11\" ry=\"11\" style=\"stroke: #A80036; stroke-width: 1.0;\"/><path d=\"M194.2969,183.875 L194.2969,186.2969 L196,186.2969 C196.4531,186.2969 196.6094,186.3281 196.7813,186.4531 C196.9844,186.625 197.125,186.875 197.125,187.1563 C197.125,187.4375 196.9688,187.7344 196.7188,187.875 C196.5938,187.9531 196.3438,188 196,188 L192.3438,188 C191.9531,188 191.7188,187.9531 191.5781,187.8281 C191.3594,187.6719 191.2188,187.4063 191.2188,187.1563 C191.2188,186.8594 191.375,186.5781 191.625,186.4219 C191.7813,186.3125 191.9375,186.2969 192.3438,186.2969 L192.5938,186.2969 L192.5938,179.7813 L192.3438,179.7813 C191.9219,179.7813 191.7344,179.75 191.5781,179.6406 C191.3594,179.4688 191.2188,179.2188 191.2188,178.9375 C191.2188,178.6563 191.375,178.3594 191.625,178.2031 C191.7813,178.1094 191.9063,178.0938 192.3438,178.0938 L200.3438,178.0938 L200.3438,180.6563 C200.3438,181.1094 200.3125,181.25 200.2031,181.4219 C200.0313,181.6406 199.7656,181.7813 199.5,181.7813 C199.2188,181.7813 198.9375,181.625 198.7656,181.375 C198.6875,181.2344 198.6563,181.0469 198.6563,180.6563 L198.6563,179.7813 L194.2969,179.7813 L194.2969,182.1875 L195.75,182.1875 L195.75,182.0625 C195.75,181.6406 195.7813,181.4531 195.8906,181.2969 C196.0625,181.0781 196.3281,180.9375 196.5938,180.9375 C196.875,180.9375 197.1563,181.0938 197.3125,181.3594 C197.4063,181.5156 197.4219,181.6406 197.4219,182.0625 L197.4219,183.9844 C197.4219,184.4531 197.3906,184.5938 197.2656,184.7656 C197.1094,184.9844 196.8438,185.125 196.5938,185.125 C196.2969,185.125 196.0156,184.9531 195.8594,184.7188 C195.7813,184.5625 195.75,184.375 195.75,183.9844 L195.75,183.875 Z \"/><text fill=\"#000000\" font-family=\"sans-serif\" font-size=\"12\" lengthAdjust=\"spacingAndGlyphs\" textLength=\"50\" x=\"210\" y=\"187.1543\">includet</text><line style=\"stroke: #A80036; stroke-width: 1.5;\" x1=\"182\" x2=\"262\" y1=\"199\" y2=\"199\"/><line style=\"stroke: #A80036; stroke-width: 1.5;\" x1=\"182\" x2=\"262\" y1=\"207\" y2=\"207\"/><!--MD5=[3a324eb4325066dd478f58eb070cfe7c]\n",
       "class relocatable!--><rect fill=\"#FEFECE\" filter=\"url(#f1euz5twqdss2w)\" height=\"48\" id=\"relocatable!\" style=\"stroke: #A80036; stroke-width: 1.5;\" width=\"108\" x=\"298\" y=\"167\"/><ellipse cx=\"313\" cy=\"183\" fill=\"#CCCC00\" rx=\"11\" ry=\"11\" style=\"stroke: #A80036; stroke-width: 1.0;\"/><path d=\"M311.2969,183.875 L311.2969,186.2969 L313,186.2969 C313.4531,186.2969 313.6094,186.3281 313.7813,186.4531 C313.9844,186.625 314.125,186.875 314.125,187.1563 C314.125,187.4375 313.9688,187.7344 313.7188,187.875 C313.5938,187.9531 313.3438,188 313,188 L309.3438,188 C308.9531,188 308.7188,187.9531 308.5781,187.8281 C308.3594,187.6719 308.2188,187.4063 308.2188,187.1563 C308.2188,186.8594 308.375,186.5781 308.625,186.4219 C308.7813,186.3125 308.9375,186.2969 309.3438,186.2969 L309.5938,186.2969 L309.5938,179.7813 L309.3438,179.7813 C308.9219,179.7813 308.7344,179.75 308.5781,179.6406 C308.3594,179.4688 308.2188,179.2188 308.2188,178.9375 C308.2188,178.6563 308.375,178.3594 308.625,178.2031 C308.7813,178.1094 308.9063,178.0938 309.3438,178.0938 L317.3438,178.0938 L317.3438,180.6563 C317.3438,181.1094 317.3125,181.25 317.2031,181.4219 C317.0313,181.6406 316.7656,181.7813 316.5,181.7813 C316.2188,181.7813 315.9375,181.625 315.7656,181.375 C315.6875,181.2344 315.6563,181.0469 315.6563,180.6563 L315.6563,179.7813 L311.2969,179.7813 L311.2969,182.1875 L312.75,182.1875 L312.75,182.0625 C312.75,181.6406 312.7813,181.4531 312.8906,181.2969 C313.0625,181.0781 313.3281,180.9375 313.5938,180.9375 C313.875,180.9375 314.1563,181.0938 314.3125,181.3594 C314.4063,181.5156 314.4219,181.6406 314.4219,182.0625 L314.4219,183.9844 C314.4219,184.4531 314.3906,184.5938 314.2656,184.7656 C314.1094,184.9844 313.8438,185.125 313.5938,185.125 C313.2969,185.125 313.0156,184.9531 312.8594,184.7188 C312.7813,184.5625 312.75,184.375 312.75,183.9844 L312.75,183.875 Z \"/><text fill=\"#000000\" font-family=\"sans-serif\" font-size=\"12\" lengthAdjust=\"spacingAndGlyphs\" textLength=\"76\" x=\"327\" y=\"187.1543\">relocatable!</text><line style=\"stroke: #A80036; stroke-width: 1.5;\" x1=\"299\" x2=\"405\" y1=\"199\" y2=\"199\"/><line style=\"stroke: #A80036; stroke-width: 1.5;\" x1=\"299\" x2=\"405\" y1=\"207\" y2=\"207\"/><!--MD5=[6869b9b422f7da2ac7d997a1201ab175]\n",
       "class revise--><rect fill=\"#FEFECE\" filter=\"url(#f1euz5twqdss2w)\" height=\"48\" id=\"revise\" style=\"stroke: #A80036; stroke-width: 1.5;\" width=\"69\" x=\"57.5\" y=\"275\"/><ellipse cx=\"72.5\" cy=\"291\" fill=\"#CCCC00\" rx=\"11\" ry=\"11\" style=\"stroke: #A80036; stroke-width: 1.0;\"/><path d=\"M70.7969,291.875 L70.7969,294.2969 L72.5,294.2969 C72.9531,294.2969 73.1094,294.3281 73.2813,294.4531 C73.4844,294.625 73.625,294.875 73.625,295.1563 C73.625,295.4375 73.4688,295.7344 73.2188,295.875 C73.0938,295.9531 72.8438,296 72.5,296 L68.8438,296 C68.4531,296 68.2188,295.9531 68.0781,295.8281 C67.8594,295.6719 67.7188,295.4063 67.7188,295.1563 C67.7188,294.8594 67.875,294.5781 68.125,294.4219 C68.2813,294.3125 68.4375,294.2969 68.8438,294.2969 L69.0938,294.2969 L69.0938,287.7813 L68.8438,287.7813 C68.4219,287.7813 68.2344,287.75 68.0781,287.6406 C67.8594,287.4688 67.7188,287.2188 67.7188,286.9375 C67.7188,286.6563 67.875,286.3594 68.125,286.2031 C68.2813,286.1094 68.4063,286.0938 68.8438,286.0938 L76.8438,286.0938 L76.8438,288.6563 C76.8438,289.1094 76.8125,289.25 76.7031,289.4219 C76.5313,289.6406 76.2656,289.7813 76,289.7813 C75.7188,289.7813 75.4375,289.625 75.2656,289.375 C75.1875,289.2344 75.1563,289.0469 75.1563,288.6563 L75.1563,287.7813 L70.7969,287.7813 L70.7969,290.1875 L72.25,290.1875 L72.25,290.0625 C72.25,289.6406 72.2813,289.4531 72.3906,289.2969 C72.5625,289.0781 72.8281,288.9375 73.0938,288.9375 C73.375,288.9375 73.6563,289.0938 73.8125,289.3594 C73.9063,289.5156 73.9219,289.6406 73.9219,290.0625 L73.9219,291.9844 C73.9219,292.4531 73.8906,292.5938 73.7656,292.7656 C73.6094,292.9844 73.3438,293.125 73.0938,293.125 C72.7969,293.125 72.5156,292.9531 72.3594,292.7188 C72.2813,292.5625 72.25,292.375 72.25,291.9844 L72.25,291.875 Z \"/><text fill=\"#000000\" font-family=\"sans-serif\" font-size=\"12\" lengthAdjust=\"spacingAndGlyphs\" textLength=\"37\" x=\"86.5\" y=\"295.1543\">revise</text><line style=\"stroke: #A80036; stroke-width: 1.5;\" x1=\"58.5\" x2=\"125.5\" y1=\"307\" y2=\"307\"/><line style=\"stroke: #A80036; stroke-width: 1.5;\" x1=\"58.5\" x2=\"125.5\" y1=\"315\" y2=\"315\"/><!--MD5=[2357a764352f09202fda7a52d7d9e39c]\n",
       "link MethodSummary to entr--><!--MD5=[cd42ef06080387bb1db1bd0e723cc296]\n",
       "link entr to firstlineno--><!--MD5=[98c94f4e1bbd4faa1dd6c18b5a0bd5ee]\n",
       "link MethodSummary to get_method--><!--MD5=[ec4f4dd24bef3ee4ea2a12fde6525ff3]\n",
       "link get_method to includet--><!--MD5=[5e27631b58d2c6a1e4b10d5a92a33ec2]\n",
       "link includet to relocatable!--><!--MD5=[d7d39e369695da72d993dcb5ab97878f]\n",
       "link get_method to revise--><!--MD5=[81cac4f85f70b5fd1c8633cc5bd263a8]\n",
       "@startuml\r\n",
       "package Revise {\r\n",
       "class MethodSummary << (S, #00cccc) >>\r\n",
       "class entr << (F, #cccc00) >>\r\n",
       "class firstlineno << (F, #cccc00) >>\r\n",
       "class get_method << (F, #cccc00) >>\r\n",
       "class includet << (F, #cccc00) >>\r\n",
       "class relocatable! << (F, #cccc00) >>\r\n",
       "class revise << (F, #cccc00) >>\r\n",
       "}\r\n",
       "@enduml\r\n",
       "\n",
       "PlantUML version 1.2019.12(Sun Nov 03 10:24:54 UTC 2019)\n",
       "(GPL source distribution)\n",
       "Java Runtime: Java(TM) SE Runtime Environment\n",
       "JVM: Java HotSpot(TM) 64-Bit Server VM\n",
       "Java Version: 1.7.0_25-b15\n",
       "Operating System: Linux\n",
       "Default Encoding: UTF-8\n",
       "Language: en\n",
       "Country: US\n",
       "--></g></svg>"
      ],
      "text/plain": [
       ",-------------.  ,----.   ,-----------.    \n",
       "|MethodSummary|  |entr|   |firstlineno|    \n",
       "|-------------|  |----|   |-----------|    \n",
       "|-------------|--|----|---|-----------|    \n",
       "`-------------'  `----'   `-----------'    \n",
       "       |                                   \n",
       "       |                                   \n",
       " ,----------.   ,--------.   ,------------.\n",
       " |get_method|   |includet|   |relocatable!|\n",
       " |----------|---|--------|---|------------|\n",
       " |----------|   |--------|   |------------|\n",
       " `----------'   `--------'   `------------'\n",
       "       |                                   \n",
       "   ,------.                                \n",
       "   |revise|                                \n",
       "   |------|                                \n",
       "   |------|                                \n",
       "   `------'                                \n"
      ]
     },
     "execution_count": 20,
     "metadata": {},
     "output_type": "execute_result"
    }
   ],
   "source": [
    "PlantUML(MemberMap(Revise))"
   ]
  },
  {
   "cell_type": "code",
   "execution_count": null,
   "metadata": {},
   "outputs": [],
   "source": [
    "Diagram(\"\"\"\n",
    "    Joris -> Foooo : Hello\n",
    "    Joris <- Karin : Hoi\n",
    "\"\"\")"
   ]
  },
  {
   "cell_type": "code",
   "execution_count": null,
   "metadata": {},
   "outputs": [],
   "source": [
    "Diagram(\"\"\"\n",
    "package Exposed {\n",
    "  [ Exposed(Value) ] as exposed\n",
    "  () Mutation as mutation\n",
    "  () Operation as operation\n",
    "  () Query as query\n",
    "  () Subscription as subscription\n",
    "  () Constraint as constraint\n",
    "  () Serialization as serialization\n",
    "  () Parameters as parameters\n",
    "  () Payload as payload\n",
    "  () CompoundConstraint as compound_constraint\n",
    "  () AllConstraint as all_constraint\n",
    "  () AnyConstraint as any_constraint\n",
    "  () NullConstraint as null_constraint\n",
    "}\n",
    "\n",
    "[ \"Value\" ] <-- exposed\n",
    "\n",
    "exposed -> operation: allows\n",
    "exposed -> subscription: monitors\n",
    "exposed <- subscription: notifies\n",
    "\n",
    "compound_constraint .up.> constraint: type of\n",
    "all_constraint .up.> compound_constraint: type of\n",
    "any_constraint .up.> compound_constraint: type of\n",
    "null_constraint .up.> constraint: type of\n",
    "\n",
    "operation <. mutation: type of\n",
    "operation <. query: type of\n",
    "\n",
    "query -down-> parameters: has many (optional)\n",
    "mutation -down-> payload: has a (optional)\n",
    "\n",
    "operation o- \"n\" constraint\n",
    "exposed - constraint: has many\n",
    "  \n",
    "subscription -> operation: monitors\n",
    "subscription -> mutation: monitors\n",
    "subscription -> query: monitors\n",
    "\n",
    "package ExposedREST {\n",
    "  [RestApi]\n",
    "  [ExposedRouter]\n",
    "  \n",
    "  [List] ..|> query\n",
    "  [Read] ..|> query\n",
    "\n",
    "  [Create] ..|> mutation\n",
    "  [Update] ..|> mutation\n",
    "  [Delete] ..|> mutation\n",
    "}\n",
    "\n",
    "package ExposedOpenIDConnectConstraints {\n",
    "  [Ownership] --o constraint\n",
    "  [Target Audience] --o constraint\n",
    "  [Scope] --o constraint\n",
    "}\n",
    "\"\"\")"
   ]
  }
 ],
 "metadata": {
  "@webio": {
   "lastCommId": null,
   "lastKernelId": null
  },
  "kernelspec": {
   "display_name": "Julia 1.2.0",
   "language": "julia",
   "name": "julia-1.2"
  },
  "language_info": {
   "file_extension": ".jl",
   "mimetype": "application/julia",
   "name": "julia",
   "version": "1.2.0"
  }
 },
 "nbformat": 4,
 "nbformat_minor": 2
}
